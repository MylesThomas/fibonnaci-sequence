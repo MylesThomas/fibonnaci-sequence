{
 "cells": [
  {
   "cell_type": "code",
   "execution_count": 14,
   "id": "86c72a1e",
   "metadata": {},
   "outputs": [
    {
     "name": "stdout",
     "output_type": "stream",
     "text": [
      "The fibonacci series for n=10: \n",
      "0\n",
      "1\n",
      "1\n",
      "2\n",
      "3\n",
      "5\n",
      "8\n",
      "13\n",
      "21\n",
      "34\n"
     ]
    }
   ],
   "source": [
    "class Main:\n",
    "    def __init__(self):\n",
    "        self.a = 0\n",
    "        self.b = 1\n",
    "        self.int = None\n",
    "        self.result = None\n",
    "        \n",
    "    def get_fibonacci_series(self, n):\n",
    "        \"\"\"\n",
    "        Prints the fibonacci series for a given value of n.\n",
    "        \n",
    "        Parameters\n",
    "        ----------\n",
    "        n: int\n",
    "            The number of values in the series to return\n",
    "        \"\"\"\n",
    "        \n",
    "        print(f\"The fibonacci series for n={n}: \")\n",
    "        \n",
    "        # Loop over n values\n",
    "        for x in range(n):\n",
    "            print(self.a)\n",
    "            self.result = self.a + self.b\n",
    "            self.a = self.b\n",
    "            self.b = self.result\n",
    "        \n",
    "main = Main()\n",
    "\n",
    "main.get_fibonacci_series(n=10)"
   ]
  }
 ],
 "metadata": {
  "kernelspec": {
   "display_name": "Python 3",
   "language": "python",
   "name": "python3"
  },
  "language_info": {
   "codemirror_mode": {
    "name": "ipython",
    "version": 3
   },
   "file_extension": ".py",
   "mimetype": "text/x-python",
   "name": "python",
   "nbconvert_exporter": "python",
   "pygments_lexer": "ipython3",
   "version": "3.8.8"
  }
 },
 "nbformat": 4,
 "nbformat_minor": 5
}
